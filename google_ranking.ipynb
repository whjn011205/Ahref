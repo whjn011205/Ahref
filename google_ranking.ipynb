{
 "cells": [
  {
   "cell_type": "code",
   "execution_count": 1,
   "metadata": {
    "collapsed": false
   },
   "outputs": [
    {
     "name": "stdout",
     "output_type": "stream",
     "text": [
      "0.21.0\n",
      "1.13.1\n"
     ]
    }
   ],
   "source": [
    "import pandas as pd\n",
    "import numpy as np\n",
    "import os\n",
    "import sys\n",
    "print (pd.__version__)\n",
    "print (np.__version__)\n"
   ]
  },
  {
   "cell_type": "markdown",
   "metadata": {},
   "source": [
    "## Function definitions"
   ]
  },
  {
   "cell_type": "code",
   "execution_count": 3,
   "metadata": {
    "collapsed": true
   },
   "outputs": [],
   "source": [
    "## Check memory usage of dataframe or series\n",
    "def mem_use(pandas_obj):\n",
    "    if isinstance(pandas_obj,pd.DataFrame):\n",
    "        usage_b = pandas_obj.memory_usage(deep=True).sum()\n",
    "    else: # we assume if not a df it's a series\n",
    "        usage_b = pandas_obj.memory_usage(deep=True)\n",
    "    usage_mb = usage_b / 1024**2 # convert bytes to megabytes\n",
    "    return \"{:03.2f} MB\".format(usage_mb)"
   ]
  },
  {
   "cell_type": "code",
   "execution_count": 297,
   "metadata": {
    "collapsed": true
   },
   "outputs": [],
   "source": [
    "def url_encode(url):\n",
    "    return url.strip().replace(\"://\",\"_\").replace(\"/\",\"_\")+\".htm\"\n",
    "\n",
    "## Optimize dataframe cols to suitable dtypes, to reduce memory usage\n",
    "def opt_df(_df):\n",
    "    \n",
    "    df = _df.copy()\n",
    "    \n",
    "    cols=[col.replace(\" \",\"\") for col in df.columns]\n",
    "    df.columns=cols\n",
    "\n",
    "    ## Convert ssuitable object cols to datetime/category format \n",
    "    for col in cols:\n",
    "        if df[col].dtype == 'object':\n",
    "            try:\n",
    "                df[col] = pd.to_datetime(df[col])\n",
    "                continue\n",
    "            except:\n",
    "                pass\n",
    "            \n",
    "            ## If there are very few unique values in the columns,\n",
    "            ## we can convert this column to category type\n",
    "            if len(df[col].unique())/len(df) <0.05: \n",
    "                df[col]=df[col].astype('category')\n",
    "    \n",
    "    ## Downcast int64 to shorter int types\n",
    "    int_cols = df.select_dtypes(include=['int64']).columns\n",
    "    df[int_cols] = df[int_cols].apply(pd.to_numeric, downcast='unsigned')\n",
    "    \n",
    "    ## Downcast float64 to shorter int types\n",
    "    float_cols = df.select_dtypes(include=['float64']).columns\n",
    "    df[float_cols] = df[float_cols].apply(pd.to_numeric, downcast='float')\n",
    "    \n",
    "    return df"
   ]
  },
  {
   "cell_type": "markdown",
   "metadata": {},
   "source": [
    "## Loading data"
   ]
  },
  {
   "cell_type": "code",
   "execution_count": 5,
   "metadata": {
    "collapsed": false,
    "scrolled": true
   },
   "outputs": [],
   "source": [
    "## Project root directory\n",
    "proj_dir=\"D:\\\\Projects\\\\ahref\\\\\"\n",
    "\n",
    "## Loading backlinks data\n",
    "files =[file for file in os.listdir(proj_dir+\"data\\\\\") if file.startswith(\"[raw]\") and file.endswith(\".csv\") ]\n",
    "file = files[0]\n",
    "df_bl_raw = pd.read_csv(proj_dir+\"data\\\\\"+file)\n",
    "\n",
    "## Loading keywords data\n",
    "files =[file for file in os.listdir(proj_dir+\"data\\\\\") if file.startswith(\"backlinko.com\") and file.endswith(\".csv\") ]\n",
    "dfs = [pd.read_csv(proj_dir+\"data\\\\\"+file) for file in files]\n",
    "df_kw_raw = pd.concat(dfs,ignore_index=True) # Must set ignore_index to reindex the final df\n",
    "df_kw_raw.to_csv(proj_dir+\"df_kw_raw.csv\")"
   ]
  },
  {
   "cell_type": "markdown",
   "metadata": {},
   "source": [
    "## Scrap Page Contents"
   ]
  },
  {
   "cell_type": "code",
   "execution_count": null,
   "metadata": {
    "collapsed": true
   },
   "outputs": [],
   "source": [
    "import urllib\n",
    "import random\n",
    "import time"
   ]
  },
  {
   "cell_type": "code",
   "execution_count": null,
   "metadata": {
    "collapsed": true
   },
   "outputs": [],
   "source": [
    "user_agents = [\n",
    "    'Mozilla/5.0 (compatible; Googlebot/2.1; +http://www.google.com/bot.html)',\n",
    "    # 'Googlebot/2.1 (+http://www.google.com/bot.html)',\n",
    "    'Mozilla/5.0 (X11; Linux x86_64) AppleWebKit/537.36 (KHTML, like Gecko)'\n",
    "    ' Ubuntu Chromium/49.0.2623.108 Chrome/49.0.2623.108 Safari/537.36',\n",
    "    # 'Gigabot/3.0 (http://www.gigablast.com/spider.html)',\n",
    "    'Mozilla/5.0 (Windows; U; Windows NT 5.1; pt-BR) AppleWebKit/533.3 '\n",
    "    '(KHTML, like Gecko)  QtWeb Internet Browser/3.7 http://www.QtWeb.net',\n",
    "    'Mozilla/5.0 (Windows NT 6.1) AppleWebKit/537.36 (KHTML, like Gecko) '\n",
    "    'Chrome/41.0.2228.0 Safari/537.36',\n",
    "    'Mozilla/5.0 (Windows; U; Windows NT 5.1; en-US) AppleWebKit/532.2 (KHTML, '\n",
    "    'like Gecko) ChromePlus/4.0.222.3 Chrome/4.0.222.3 Safari/532.2',\n",
    "    'Mozilla/5.0 (Windows; U; Windows NT 5.1; en-US; rv:1.8.1.4pre) '\n",
    "    'Gecko/20070404 K-Ninja/2.1.3',\n",
    "    'Mozilla/5.0 (Future Star Technologies Corp.; Star-Blade OS; x86_64; U; '\n",
    "    'en-US) iNet Browser 4.7',\n",
    "    'Mozilla/5.0 (Windows; U; Windows NT 6.1; rv:2.2) Gecko/20110201',\n",
    "    'Mozilla/5.0 (Windows; U; Windows NT 5.1; en-US; rv:1.8.1.13) '\n",
    "    'Gecko/20080414 Firefox/2.0.0.13 Pogo/2.0.0.13.6866',\n",
    "\t# 'WorldWideweb (NEXT)'\n",
    "]"
   ]
  },
  {
   "cell_type": "code",
   "execution_count": null,
   "metadata": {
    "collapsed": true
   },
   "outputs": [],
   "source": [
    "urls = df_kw.URL.unique().tolist()\n",
    "for url in urls:\n",
    "    time.sleep(0.5)\n",
    "    print(url)\n",
    "    headers={\"User-Agent\":random.choice(user_agents)}\n",
    "    req = urllib.request.Request(url,headers = headers)\n",
    "    page = urllib.request.urlopen(req).read()\n",
    "    page = page.decode('utf-8')\n",
    "    \n",
    "#    f = proj_dir+\"data\\\\\"+url.strip().replace(\"://\",\"_\").replace(\"/\",\"_\")+\".htm\"\n",
    "    f = proj_dir+\"data\\\\\"+url_encode(url)\n",
    "    f = open(f,\"w+\",encoding='utf-8')\n",
    "    f.write(page)\n",
    "    f.close()\n"
   ]
  },
  {
   "cell_type": "markdown",
   "metadata": {},
   "source": [
    "## Optimize data for less memory usage"
   ]
  },
  {
   "cell_type": "code",
   "execution_count": 146,
   "metadata": {
    "collapsed": false
   },
   "outputs": [
    {
     "name": "stdout",
     "output_type": "stream",
     "text": [
      "old df_bl_raw: 215.57 MB\n",
      "old df_kw_raw: 0.69 MB\n",
      "new df_bl: 124.75 MB\n",
      "new df_kw: 0.23 MB\n"
     ]
    }
   ],
   "source": [
    "# print(bl_raw.dtypes)\n",
    "print(\"old df_bl_raw:\",mem_use(df_bl_raw))\n",
    "print(\"old df_kw_raw:\",mem_use(df_kw_raw))\n",
    "\n",
    "df_bl=opt_df(df_bl_raw)\n",
    "df_kw=opt_df(df_kw_raw)\n",
    "\n",
    "print(\"new df_bl:\",mem_use(df_bl))\n",
    "print(\"new df_kw:\",mem_use(df_kw))"
   ]
  },
  {
   "cell_type": "markdown",
   "metadata": {},
   "source": [
    "## Count appearance of keywords in Anchor/Surrounding/Content text\n",
    "##### _Sep: Add to count if the every individual word in keyword is in anchor/surrounding/page content\n",
    "##### _All: Only add to count if the keyword as a whole is in anchor/surrounding/page content"
   ]
  },
  {
   "cell_type": "code",
   "execution_count": 298,
   "metadata": {
    "collapsed": false
   },
   "outputs": [
    {
     "name": "stdout",
     "output_type": "stream",
     "text": [
      "1798\n",
      "------- https://backlinko.com/google-keyword-planner -------\n",
      "------- http://backlinko.com/increase-website-traffic -------\n",
      "------- https://backlinko.com/social-squeeze-page -------\n",
      "------- https://backlinko.com/seo-this-year -------\n",
      "------- https://backlinko.com/conversion-rate-optimization -------\n",
      "------- https://backlinko.com/skyscraper-technique -------\n",
      "------- https://backlinko.com/17-untapped-backlink-sources -------\n",
      "------- https://backlinko.com/seo-strategy -------\n",
      "------- https://backlinko.com/increase-website-traffic -------\n",
      "------- https://backlinko.com/the-definitive-guide-to-keyword-research -------\n",
      "------- http://backlinko.com/seo-copywriting -------\n",
      "------- https://backlinko.com/how-to-rank-for-any-keyword -------\n",
      "------- https://backlinko.com/actionable-seo-tips -------\n",
      "------- https://backlinko.com/about-backlinko -------\n",
      "------- https://backlinko.com/keyword-research -------\n",
      "------- https://backlinko.com/white-hat-seo -------\n",
      "------- https://backlinko.com/seo-campaign -------\n",
      "------- https://backlinko.com/how-to-rank-youtube-videos -------\n",
      "------- http://backlinko.com/content-relaunch -------\n",
      "------- https://backlinko.com/blog -------\n",
      "------- https://backlinko.com/seo-content -------\n",
      "------- https://backlinko.com/content-relaunch -------\n",
      "------- https://backlinko.com/seo-tools -------\n",
      "------- https://backlinko.com/viral-marketing -------\n",
      "------- http://backlinko.com/long-tail-keywords -------\n",
      "------- http://backlinko.com/seo-techniques -------\n",
      "------- https://backlinko.com/on-page-seo -------\n",
      "------- https://backlinko.com/list-building -------\n",
      "------- http://backlinko.com/actionable-seo-tips -------\n",
      "------- https://backlinko.com/high-quality-backlinks -------\n",
      "------- https://backlinko.com/seo-copywriting -------\n",
      "------- https://backlinko.com/keyword-research-tools -------\n",
      "------- https://backlinko.com/seo-techniques -------\n",
      "------- https://backlinko.com/newsletter -------\n",
      "------- http://backlinko.com/seo-campaign -------\n",
      "------- https://backlinko.com/keyword-competition -------\n",
      "------- https://backlinko.com/google-trustrank -------\n",
      "------- https://backlinko.com/cpa-marketing -------\n",
      "------- https://backlinko.com/ecommerce-seo -------\n",
      "------- http://backlinko.com/on-page-seo -------\n",
      "------- http://backlinko.com/google-ranking-factors -------\n",
      "------- https://backlinko.com/youtube-ranking-factors -------\n",
      "------- https://backlinko.com/link-building -------\n",
      "------- https://backlinko.com/increase-conversions -------\n",
      "------- https://backlinko.com/search-engine-ranking -------\n",
      "------- https://backlinko.com/the-definitive-guide-to-guest-blogging -------\n",
      "------- https://backlinko.com/seo-checklist -------\n",
      "------- https://backlinko.com/contact -------\n",
      "------- https://backlinko.com/ -------\n",
      "------- https://backlinko.com/long-tail-keywords -------\n",
      "------- https://backlinko.com/how-to-get-backlinks -------\n",
      "------- http://backlinko.com/search-engine-ranking -------\n",
      "------- https://backlinko.com/commercial-intent -------\n",
      "------- https://backlinko.com/video-seo-guide -------\n",
      "------- https://backlinko.com/google-ranking-factors -------\n",
      "1798\n"
     ]
    }
   ],
   "source": [
    "# df_kw.to_csv(proj_dir+\"df_kw.csv\")\n",
    "print(len(df_kw))\n",
    "urls = df_kw.URL.unique().tolist()\n",
    "\n",
    "df_kw[\"In_Anch_Sep\"] = 0\n",
    "df_kw[\"In_Surr_Sep\"] = 0\n",
    "df_kw[\"In_Page_Sep\"] = 0\n",
    "\n",
    "df_kw[\"In_Anch_All\"] = 0\n",
    "df_kw[\"In_Surr_All\"] = 0\n",
    "df_kw[\"In_Page_All\"] = 0\n",
    "\n",
    "df_kw[\"In_Anch\"] = 0\n",
    "df_kw[\"In_Surr\"] = 0\n",
    "df_kw[\"In_Page\"] = 0\n",
    "\n",
    "\n",
    "for url in urls:\n",
    "    print(\"-------\",url,\"-------\")\n",
    "    df = df_kw[df_kw.URL==url] ## Extract part of df_kw into a temporary 'df'\n",
    "    kws = df.Keyword.value_counts().to_dict()\n",
    "    \n",
    "    ## Anchor/surrounding Texts\n",
    "    bls = df_bl[df_bl.LinkURL==url]\n",
    "    anch_txts = bls.LinkAnchor.map(str).values\n",
    "    surr_txts = bls[['TextPre','TextPost']].apply(lambda x: ' '.join((str(x.TextPre),str(x.TextPost))),axis=1).values\n",
    "    \n",
    "    ## Content of the page\n",
    "    page = proj_dir+\"data\\\\\"+url_encode(url)\n",
    "    page = open(page, 'r',encoding='utf-8').read()\n",
    "\n",
    "    for kw,count in kws.items():\n",
    "\n",
    "        ## ---- Remove some outdated rows in df_kw ----\n",
    "        if count>1:\n",
    "            latest = df[df.Keyword==kw].LastUpdate.max()\n",
    "            max_traffic = df[df.Keyword==kw].Traffic.max()\n",
    "            rows_to_drop = df_kw[((df_kw.Traffic < max_traffic-0.05) | (df_kw.LastUpdate < latest)) & \n",
    "                            (df_kw.Keyword==kw) & (df_kw.URL == url)].index\n",
    "            df_kw.drop(rows_to_drop, inplace=True)\n",
    "        ## --------------------------------------------       \n",
    "        \n",
    "        words = kw.split() #split keyword into separate words        \n",
    "        \n",
    "        ## ----------- Count how many anchor text contain kw --------------\n",
    "        in_anch_sep = 0\n",
    "        in_anch_all = 0\n",
    "        in_anch = 0\n",
    "        for anch_txt in anch_txts:\n",
    "            ## Check if every word in kw is in anchor text\n",
    "            for word in words:\n",
    "                if word not in anch_txt:\n",
    "                    break\n",
    "                else:\n",
    "                    in_anch = 1\n",
    "            else:\n",
    "                in_anch_sep += 1\n",
    "                \n",
    "            ## Check if kw as a whole is in anchor text    \n",
    "            if kw in anch_txt:  \n",
    "                in_anch_all += 1\n",
    "        \n",
    "        df_kw.loc[(df_kw.Keyword==kw) & (df_kw.URL==url),'In_Anch_Sep'] = in_anch_sep\n",
    "        df_kw.loc[(df_kw.Keyword==kw) & (df_kw.URL==url),'In_Anch_All'] = in_anch_all\n",
    "        df_kw.loc[(df_kw.Keyword==kw) & (df_kw.URL==url),'In_Anch'] = in_anch\n",
    "\n",
    "              \n",
    "        ## ------------- Count how many surrounding text contain kw -------------    \n",
    "        in_surr_sep = 0\n",
    "        in_surr_all = 0\n",
    "        in_surr = 0\n",
    "        for surr_txt in surr_txts:\n",
    "            ## Check if every word in kw is in surrounding text\n",
    "            for word in words:\n",
    "                if word not in surr_txt:\n",
    "                    break\n",
    "                else:\n",
    "                    in_surr = 1\n",
    "            else:\n",
    "                in_surr_sep += 1\n",
    "                \n",
    "            ## Check if kw as a whole is in surrounding text    \n",
    "            if kw in surr_txt: \n",
    "                in_surr_all += 1\n",
    "                \n",
    "        df_kw.loc[(df_kw.Keyword==kw) & (df_kw.URL==url),'In_Surr_Sep'] = in_surr_sep\n",
    "        df_kw.loc[(df_kw.Keyword==kw) & (df_kw.URL==url),'In_Surr_All'] = in_surr_all\n",
    "        df_kw.loc[(df_kw.Keyword==kw) & (df_kw.URL==url),'In_Surr'] = in_surr\n",
    "        \n",
    "        ## --------------- Check if kw in page content ---------------------------\n",
    "        in_page_sep = 0\n",
    "        in_page_all = 0\n",
    "        in_page = 0\n",
    "        \n",
    "        ## Check if every word in kw is in surrounding text\n",
    "        for word in words:\n",
    "            if word not in page:\n",
    "                break\n",
    "            else:\n",
    "                in_page = 1\n",
    "        else:\n",
    "            in_page_sep = 1\n",
    "            \n",
    "        ## Check if kw as a whole is in page content    \n",
    "        if kw in page: \n",
    "                in_page_all += 1\n",
    "            \n",
    "        df_kw.loc[(df_kw.Keyword==kw) & (df_kw.URL==url),'In_Page_Sep'] = in_page_sep\n",
    "        df_kw.loc[(df_kw.Keyword==kw) & (df_kw.URL==url),'In_Page_All'] = in_page_all\n",
    "        df_kw.loc[(df_kw.Keyword==kw) & (df_kw.URL==url),'In_Page'] = in_page\n",
    "        \n",
    "print(len(df_kw)) "
   ]
  },
  {
   "cell_type": "code",
   "execution_count": 299,
   "metadata": {
    "collapsed": false
   },
   "outputs": [
    {
     "name": "stdout",
     "output_type": "stream",
     "text": [
      "                                Traffic\n",
      "Keyword                                \n",
      "backlink building                     3\n",
      "backlink strategies                   3\n",
      "backlinko blog                        6\n",
      "backlinko keyword research            5\n",
      "backlinko link building               8\n",
      "backlinko skyscraper                  4\n",
      "brain dean                            3\n",
      "brian dean                            3\n",
      "brian dean backlinko                  3\n",
      "brian dean seo                        3\n",
      "broken link building backlinko        4\n"
     ]
    }
   ],
   "source": [
    "df = df_kw[df_kw.PageURLinside.isnull()].groupby(['Keyword']).agg({'Traffic':'count'},as_index=False)\n",
    "print(df[df.Traffic>2])\n",
    "df_kw.to_csv(proj_dir+\"df_kw.csv\")"
   ]
  },
  {
   "cell_type": "markdown",
   "metadata": {},
   "source": [
    "## Analysis"
   ]
  },
  {
   "cell_type": "code",
   "execution_count": 118,
   "metadata": {
    "collapsed": true
   },
   "outputs": [],
   "source": [
    "%matplotlib inline\n",
    "import matplotlib.pyplot as plt"
   ]
  },
  {
   "cell_type": "code",
   "execution_count": 210,
   "metadata": {
    "collapsed": true
   },
   "outputs": [],
   "source": [
    "## Remove outliers from a given arr\n",
    "def reject_outlier(arr):\n",
    "    mean=arr.mean()\n",
    "    sigma=np.std(arr)\n",
    "    arr2=[a for a in arr if mean-3*sigma < a < mean+3*sigma]\n",
    "#     print(len(arr),mean,sigma)\n",
    "    return np.array(arr2)"
   ]
  },
  {
   "cell_type": "raw",
   "metadata": {},
   "source": [
    "Side Note:\n",
    "_Sep: Add to count if every individual word in keyword is in anchor/surrounding/page content\n",
    "_All: Only add to count if the keyword as a whole is in anchor/surrounding/page content"
   ]
  },
  {
   "cell_type": "markdown",
   "metadata": {},
   "source": [
    "### Analysis for anchor text"
   ]
  },
  {
   "cell_type": "code",
   "execution_count": 226,
   "metadata": {
    "collapsed": false
   },
   "outputs": [
    {
     "data": {
      "text/plain": [
       "<matplotlib.legend.Legend at 0x20186d68>"
      ]
     },
     "execution_count": 226,
     "metadata": {},
     "output_type": "execute_result"
    },
    {
     "data": {
      "image/png": "[encoded data removed]",
      "text/plain": [
       "<matplotlib.figure.Figure at 0x1c342d68>"
      ]
     },
     "metadata": {},
     "output_type": "display_data"
    }
   ],
   "source": [
    "In_Anchs_Sep=[]\n",
    "In_Anchs_Sep_means=[]\n",
    "In_Anchs_Sep_meds=[]\n",
    "\n",
    "In_Anchs_All=[]\n",
    "In_Anchs_All_means=[]\n",
    "In_Anchs_All_meds=[]\n",
    "\n",
    "for position in range(1,11):\n",
    "    In_Anchs_Sep.append(df_kw[df_kw.Position==position].In_Anch_Sep)\n",
    "    In_Anchs_All.append(df_kw[df_kw.Position==position].In_Anch_All)\n",
    "    \n",
    "In_Anchs_Sep_means=[reject_outlier(arr).mean() for arr in In_Anchs_Sep]\n",
    "In_Anchs_All_means=[reject_outlier(arr).mean() for arr in In_Anchs_All]\n",
    "\n",
    "# In_Anchs_Sep_meds=[np.median(reject_outlier(arr)) for arr in In_Anchs_Sep]\n",
    "# In_Anchs_All_meds=[np.median(reject_outlier(arr)) for arr in In_Anchs_All]\n",
    "\n",
    "fig = plt.figure(1,figsize=(24,8))\n",
    "\n",
    "# fig.add_subplot(231).boxplot(In_Anchs_Sep,patch_artist=True)\n",
    "ax1=fig.add_subplot(231)\n",
    "l1,l2 = ax1.plot(np.arange(1,11),In_Anchs_Sep_means,np.arange(1,11),In_Anchs_All_means)\n",
    "ax1.legend((l1,l2),('_Sep','_All'))\n",
    "\n",
    "\n",
    "# fig.add_subplot(234).boxplot(In_Anchs_All,patch_artist=True)\n",
    "# fig.add_subplot(231).plot(np.arange(1,11),In_Anchs_All_means,label='_All')\n",
    "# fig.add_subplot(236).plot(np.arange(1,11),In_Anchs_All_meds)\n"
   ]
  },
  {
   "cell_type": "markdown",
   "metadata": {},
   "source": [
    "### Analysis for surrounding text"
   ]
  },
  {
   "cell_type": "code",
   "execution_count": 227,
   "metadata": {
    "collapsed": false
   },
   "outputs": [
    {
     "data": {
      "text/plain": [
       "<matplotlib.legend.Legend at 0x201ffa90>"
      ]
     },
     "execution_count": 227,
     "metadata": {},
     "output_type": "execute_result"
    },
    {
     "data": {
      "image/png": "[encoded data removed]",
      "text/plain": [
       "<matplotlib.figure.Figure at 0x1ffae5c0>"
      ]
     },
     "metadata": {},
     "output_type": "display_data"
    }
   ],
   "source": [
    "# plt.boxplot(df_kw.InSurr,10-df_kw.Position)\n",
    "In_Surrs_Sep=[]\n",
    "In_Surrs_Sep_means=[]\n",
    "# In_Surrs_Sep_meds=[]\n",
    "In_Surrs_All=[]\n",
    "In_Surrs_All_means=[]\n",
    "# In_Surrs_All_meds=[]\n",
    "\n",
    "for position in range(1,11):\n",
    "    In_Surrs_Sep.append(df_kw[df_kw.Position==position].In_Surr_Sep)\n",
    "    In_Surrs_All.append(df_kw[df_kw.Position==position].In_Surr_All)\n",
    "    \n",
    "In_Surrs_Sep_means=[reject_outlier(arr).mean() for arr in In_Surrs_Sep]\n",
    "In_Surrs_All_means=[reject_outlier(arr).mean() for arr in In_Surrs_All]\n",
    "\n",
    "# In_Surrs_Sep_meds=[np.median(reject_outlier(arr)) for arr in In_Surrs_Sep]\n",
    "# In_Surrs_All_meds=[np.median(reject_outlier(arr)) for arr in In_Surrs_All]\n",
    "\n",
    "fig2 = plt.figure(2,figsize=(24,8))\n",
    "\n",
    "ax1=fig2.add_subplot(231)\n",
    "l1,l2 = ax1.plot(np.arange(1,11),In_Surrs_Sep_means,np.arange(1,11),In_Surrs_All_means)\n",
    "ax1.legend((l1,l2),('_Sep','_All'))\n",
    "\n",
    "\n",
    "# fig2.add_subplot(231).boxplot(In_Surrs_Sep,patch_artist=True)\n",
    "# fig2.add_subplot(231).plot(np.arange(1,11),In_Surrs_Sep_means)\n",
    "# fig2.add_subplot(233).plot(np.arange(1,11),In_Surrs_Sep_meds)\n",
    "\n",
    "# fig2.add_subplot(234).boxplot(In_Surrs_All,patch_artist=True)\n",
    "# fig2.add_subplot(232).plot(np.arange(1,11),In_Surrs_All_means)\n",
    "# fig2.add_subplot(236).plot(np.arange(1,11),In_Surrs_All_meds)"
   ]
  },
  {
   "cell_type": "markdown",
   "metadata": {},
   "source": [
    "### Analysis for page content"
   ]
  },
  {
   "cell_type": "code",
   "execution_count": 246,
   "metadata": {
    "collapsed": false
   },
   "outputs": [
    {
     "data": {
      "text/plain": [
       "<matplotlib.legend.Legend at 0x2231e4e0>"
      ]
     },
     "execution_count": 246,
     "metadata": {},
     "output_type": "execute_result"
    },
    {
     "data": {
      "image/png": "[encoded data removed]",
      "text/plain": [
       "<matplotlib.figure.Figure at 0xa5d6e80>"
      ]
     },
     "metadata": {},
     "output_type": "display_data"
    }
   ],
   "source": [
    "In_Pages_Sep=[]\n",
    "In_Pages_Sep_means=[]\n",
    "In_Pages_Sep_meds=[]\n",
    "\n",
    "In_Pages_All=[]\n",
    "In_Pages_All_means=[]\n",
    "In_Pages_All_meds=[]\n",
    "\n",
    "for position in range(1,11):\n",
    "    In_Pages_Sep.append(df_kw[df_kw.Position==position].In_Page_Sep)\n",
    "    In_Pages_All.append(df_kw[df_kw.Position==position].In_Page_All)\n",
    "    \n",
    "In_Pages_Sep_means=[reject_outlier(arr).mean() for arr in In_Pages_Sep]\n",
    "In_Pages_All_means=[reject_outlier(arr).mean() for arr in In_Pages_All]\n",
    "\n",
    "# In_Pages_Sep_meds=[np.median(reject_outlier(arr)) for arr in In_Pages_Sep]\n",
    "# In_Pages_All_meds=[np.median(reject_outlier(arr)) for arr in In_Pages_All]\n",
    "\n",
    "fig3 = plt.figure(3,figsize=(24,8))\n",
    "\n",
    "ax1=fig3.add_subplot(231)\n",
    "l1,l2 = ax1.plot(np.arange(1,11),In_Surrs_Sep_means,np.arange(1,11),In_Surrs_All_means)\n",
    "ax1.legend((l1,l2),('_Sep','_All'))\n",
    "\n",
    "\n",
    "# fig3.add_subplot(231).boxplot(In_Pages_Sep,patch_artist=True)\n",
    "# fig3.add_subplot(231).plot(np.arange(1,11),In_Pages_Sep_means)\n",
    "# fig3.add_subplot(233).plot(np.arange(1,11),In_Pages_Sep_meds)\n",
    "\n",
    "# fig3.add_subplot(234).boxplot(In_Pages_All,patch_artist=True)\n",
    "# fig3.add_subplot(232).plot(np.arange(1,11),In_Pages_All_means)\n",
    "# fig3.add_subplot(236).plot(np.arange(1,11),In_Pages_All_meds)"
   ]
  },
  {
   "cell_type": "markdown",
   "metadata": {},
   "source": [
    "### Analysis for keywords not present in anchor/surrounding text/page content"
   ]
  },
  {
   "cell_type": "code",
   "execution_count": 311,
   "metadata": {
    "collapsed": false
   },
   "outputs": [
    {
     "data": {
      "text/plain": [
       "<matplotlib.legend.Legend at 0x244774a8>"
      ]
     },
     "execution_count": 311,
     "metadata": {},
     "output_type": "execute_result"
    },
    {
     "data": {
      "image/png": "[encoded data removed]",
      "text/plain": [
       "<matplotlib.figure.Figure at 0x2441c5c0>"
      ]
     },
     "metadata": {},
     "output_type": "display_data"
    }
   ],
   "source": [
    "df=df_kw.groupby(['Position']).agg({'Traffic':'count','In_Anch':'mean','In_Surr':'mean','In_Page':'mean'})\n",
    "df['Not_In_Anch']=1-df['In_Anch']\n",
    "df['Not_In_Surr']=1-df['In_Surr']\n",
    "df['Not_In_Page']=1-df['In_Page']\n",
    "# print(df)\n",
    "\n",
    "fig4 = plt.figure(4,figsize=(24,12))\n",
    "ax1=fig4.add_subplot(221)\n",
    "l1,l2,l3=ax1.plot(range(1,11),df.Not_In_Anch,range(1,11),df.Not_In_Surr,range(1,11),df.Not_In_Page)\n",
    "ax1.legend((l1,l2,l3),('Not in Anch','Not in Surr','Not in Page'))"
   ]
  },
  {
   "cell_type": "code",
   "execution_count": null,
   "metadata": {
    "collapsed": true
   },
   "outputs": [],
   "source": []
  }
 ],
 "metadata": {
  "anaconda-cloud": {},
  "kernelspec": {
   "display_name": "Python [Root]",
   "language": "python",
   "name": "Python [Root]"
  },
  "language_info": {
   "codemirror_mode": {
    "name": "ipython",
    "version": 3
   },
   "file_extension": ".py",
   "mimetype": "text/x-python",
   "name": "python",
   "nbconvert_exporter": "python",
   "pygments_lexer": "ipython3",
   "version": "3.5.2"
  }
 },
 "nbformat": 4,
 "nbformat_minor": 0
}
